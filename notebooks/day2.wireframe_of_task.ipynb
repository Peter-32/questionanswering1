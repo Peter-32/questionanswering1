{
 "cells": [
  {
   "cell_type": "code",
   "execution_count": 1,
   "metadata": {},
   "outputs": [],
   "source": [
    "import wikipedia\n",
    "import numpy as np\n",
    "from scipy.spatial.distance import pdist, squareform\n",
    "from sklearn.preprocessing import StandardScaler, MinMaxScaler"
   ]
  },
  {
   "cell_type": "code",
   "execution_count": 2,
   "metadata": {},
   "outputs": [
    {
     "data": {
      "text/plain": [
       "['Periodic table',\n",
       " 'History of the periodic table',\n",
       " 'Periodic Videos',\n",
       " 'Extended periodic table',\n",
       " 'Periodic table of topological invariants',\n",
       " 'Dmitri Mendeleev',\n",
       " 'Metalloid',\n",
       " 'The Periodic Table (Basher book)',\n",
       " 'Alkali metal',\n",
       " 'Descriptive research']"
      ]
     },
     "execution_count": 2,
     "metadata": {},
     "output_type": "execute_result"
    }
   ],
   "source": [
    "question = \"What is on the periodic table?\"\n",
    "\n",
    "matches = wikipedia.search(question)\n",
    "matches"
   ]
  },
  {
   "cell_type": "code",
   "execution_count": 3,
   "metadata": {},
   "outputs": [],
   "source": [
    "# Loop through all of these documents for V1; another hypothesis for matching the one that best matches the query"
   ]
  },
  {
   "cell_type": "code",
   "execution_count": 4,
   "metadata": {},
   "outputs": [
    {
     "data": {
      "text/plain": [
       "['Periodic table',\n",
       " 'History of the periodic table',\n",
       " 'Periodic Videos',\n",
       " 'Extended periodic table',\n",
       " 'Periodic table of topological invariants',\n",
       " 'Dmitri Mendeleev',\n",
       " 'Metalloid',\n",
       " 'The Periodic Table (Basher book)',\n",
       " 'Alkali metal',\n",
       " 'Descriptive research']"
      ]
     },
     "execution_count": 4,
     "metadata": {},
     "output_type": "execute_result"
    }
   ],
   "source": [
    "[match for match in matches]"
   ]
  },
  {
   "cell_type": "code",
   "execution_count": 5,
   "metadata": {},
   "outputs": [
    {
     "name": "stderr",
     "output_type": "stream",
     "text": [
      "[nltk_data] Downloading package punkt to\n",
      "[nltk_data]     /Users/petermyers/nltk_data...\n",
      "[nltk_data]   Package punkt is already up-to-date!\n"
     ]
    },
    {
     "name": "stdout",
     "output_type": "stream",
     "text": [
      "Found 29(/29) words with w2v vectors\n",
      "Vocab size : 29\n",
      "[[0.08703331 0.08786308 0.05431972 ... 0.03837078 0.03438099 0.00756402]\n",
      " [0.00080437 0.01218406 0.0565544  ... 0.         0.02164815 0.        ]\n",
      " [0.         0.08619805 0.05026022 ... 0.0454581  0.02453266 0.01138138]\n",
      " ...\n",
      " [0.02356069 0.06758805 0.06377555 ... 0.00434644 0.02094805 0.0433331 ]\n",
      " [0.10077003 0.         0.16811676 ... 0.         0.         0.03339149]\n",
      " [0.         0.05960754 0.         ... 0.02698475 0.04557415 0.00756522]]\n"
     ]
    }
   ],
   "source": [
    "import nltk\n",
    "nltk.download('punkt')\n",
    "import torch\n",
    "from models import InferSent\n",
    "\n",
    "# Initialize\n",
    "infersent = InferSent({'bsize': 64, 'word_emb_dim': 300, 'enc_lstm_dim': 2048,\n",
    "                'pool_type': 'max', 'dpout_model': 0.0, 'version': 1})\n",
    "infersent.load_state_dict(torch.load('/Users/petermyers/Desktop/Other/data/InferSent/encoder/infersent1.pkl'))\n",
    "infersent.set_w2v_path('/Users/petermyers/Desktop/Other/data/GloVe/glove.840B.300d.txt')\n",
    "\n",
    "# My sentences\n",
    "sentences = [question] + matches\n",
    "infersent.build_vocab(sentences, tokenize=True)\n",
    "embeddings = infersent.encode(sentences, tokenize=True)\n",
    "print(embeddings)"
   ]
  },
  {
   "cell_type": "code",
   "execution_count": 6,
   "metadata": {},
   "outputs": [],
   "source": [
    "\n",
    "\n",
    "embeddings = np.array(embeddings)\n",
    "embeddings = StandardScaler().fit_transform(embeddings)\n",
    "embeddings = MinMaxScaler().fit_transform(embeddings)\n",
    "distances = pdist(embeddings, metric='euclidean')\n",
    "sentence_similarity_matrix = squareform(distances)"
   ]
  },
  {
   "cell_type": "code",
   "execution_count": 7,
   "metadata": {},
   "outputs": [
    {
     "data": {
      "text/plain": [
       "array([ 0.        , 29.50440347, 27.3204302 , 34.25857614, 28.32720965,\n",
       "       35.24618979, 37.05823118, 36.50455042, 35.14499066, 36.0809703 ,\n",
       "       34.87906189])"
      ]
     },
     "execution_count": 7,
     "metadata": {},
     "output_type": "execute_result"
    }
   ],
   "source": [
    "sentence_similarity_matrix[0]"
   ]
  },
  {
   "cell_type": "code",
   "execution_count": 8,
   "metadata": {},
   "outputs": [],
   "source": [
    "best_match = np.argmin(sentence_similarity_matrix[0][1:])"
   ]
  },
  {
   "cell_type": "code",
   "execution_count": 9,
   "metadata": {},
   "outputs": [
    {
     "data": {
      "text/plain": [
       "'The periodic table is an arrangement of the chemical elements, which are organized on the basis of their atomic numbers, electron configurations and recurring chemical properties. Elements are presented in order of increasing atomic number. The standard form of the table consists of a grid with rows called periods and columns called groups.\\nThe history of the periodic table reflects over two centuries of growth in the understanding of chemical properties, with major contributions made by Antoine-Laurent de Lavoisier, Johann Wolfgang Döbereiner, John Newlands, Julius Lothar Meyer, Dmitri Mendeleev, and Glenn T. Seaborg.\\n\\n\\n== Early history ==\\n\\nA number of physical elements (such as platinum, mercury, tin and zinc) have been known from antiquity, as they are found in their native form and are relatively simple to mine with primitive tools. Around 330 BCE, the Greek philosopher Aristotle proposed that everything is made up of a mixture of one or more roots, an idea that had originally been suggested by the Sicilian philosopher Empedocles. The four roots, which were later renamed as elements by Plato, were earth, water, air and fire. Similar ideas about these four elements also existed in other ancient traditions, such as Indian philosophy.\\n\\n\\n== First categorizations ==\\nThe history of the periodic table is also a history of the discovery of the chemical elements. The first person in history to discover a new element was Hennig Brand, a bankrupt German merchant. Brand tried to discover the Philosopher\\'s Stone—a mythical object that was supposed to turn inexpensive base metals into gold. In 1669 (or later), his experiments with distilled human urine resulted in the production of a glowing white substance, which he called \"cold fire\" (kaltes Feuer). He kept his discovery secret until 1680, when Robert Boyle rediscovered phosphorus and published his findings. The discovery of phosphorus helped to raise the question of what it meant for a substance to be an element.\\nIn 1661, Boyle defined an element as \"those primitive and simple Bodies of which the mixt ones are said to be composed, and into which they are ultimately resolved.\"\\n\\nLavoisier\\'s Traité Élémentaire de Chimie (Elementary Treatise of Chemistry), which was written in 1789 and first translated into English by the writer Robert Kerr, is considered to be the first modern textbook about chemistry. Lavoisier defined an element as a substance that cannot be broken down into a simpler substance by a chemical reaction. This simple definition served for a century and lasted until the discovery of subatomic particles. Lavoisier\\'s book contained a list of \"simple substances\" that Lavoisier believed could not be broken down further, which included oxygen, nitrogen, hydrogen, phosphorus, mercury, zinc and sulfur, which formed the basis for the modern list of elements. Lavoisier\\'s list also included \\'light\\' and \\'caloric\\', which at the time were believed to be material substances. He classified these substances into metals and non metals. While many leading chemists refused to believe Lavoisier\\'s new revelations, the Elementary Treatise was written well enough to convince the younger generation. However, Lavoisier\\'s descriptions of his elements lack completeness, as he only classified them as metals and non-metals.\\nIn 1815, the English physician and chemist William Prout noticed that atomic weights seemed to be multiples of that of hydrogen.In 1817, Johann Wolfgang Döbereiner, a chemist, began to formulate one of the earliest attempts to classify the elements. In 1829, he found that he could form some of the elements into groups of three, with the members of each group having related properties. He termed these groups triads.Definition of Triad law:-\"Chemically analogous elements arranged in increasing order of their atomic weights formed well marked groups of three called Triads in which the atomic weight of the middle element was found to be generally the arithmetic mean of the atomic weight of the other two elements in the triad.\\n\\nchlorine, bromine, and iodine\\ncalcium, strontium, and barium\\nsulfur, selenium, and tellurium\\nlithium, sodium, and potassiumIn 1860, a revised list of elements and atomic masses was presented at a conference in Karlsruhe. It helped spur creation of more extensive systems. The first such system emerged in two years.\\n\\n\\n== Comprehensive formalizations ==\\nFrench geologist Alexandre-Emile Béguyer de Chancourtois noticed that the elements, when ordered by their atomic weights, displayed similar properties at regular intervals. In 1862, he devised a three-dimensional chart, named the \"telluric helix\", after the element tellurium, which fell near the center of his diagram. With the elements arranged in a spiral on a cylinder by order of increasing atomic weight, de Chancourtois saw that elements with similar properties lined up vertically. The original paper from Chancourtois in Comptes Rendus de l\\'Académie des Sciences did not include a chart and used geological rather than chemical terms. In 1863, he extended his work by including a chart and adding ions and compounds.\\n\\nThe next attempt was made in 1864. British chemist John Newlands presented a classification of the sixty-two known elements. Newlands noticed recurring trends in physical properties of the elements at recurring intervals of multiples of eight in order of mass number; based on this observation, he produced a classification of these elements into eight groups. Each group displayed a similar progression; Newlands likened these progressions to the progression of notes within a musical scale. Newlands\\' table left no gaps for possible future elements, and in some cases had two elements at the same position in the same octave. Newlands\\' table was ridiculed by some of his contemporaries. The Chemical Society refused to publish his work. The president of the Society, William Odling, defended the Society\\'s decision by saying that such \\'theoretical\\' topics might be controversial; there was even harsher opposition from within the Society, suggesting the elements could have been just as well listed alphabetically. Later that year, Odling suggested a table of his own but failed to get recognition following his role in opposing Newlands\\' table.\\n\\nGerman chemist Lothar Meyer also noted the sequences of similar chemical and physical properties repeated at periodic intervals. According to him, if the atomic weights were plotted as ordinates (i.e vertically) and the atomic volumes as abscissae (i.e. horizontally)—the curve obtained a series of maximums and minimums—the most electropositive elements would appear at the peaks of the curve in the order of their atomic weights. In 1864, a book of his was published; it contained an early version of the periodic table containing 28 elements, and classified elements into six families by their valence—for the first time, elements had been grouped according to their valence. Works on organizing the elements by atomic weight had until then been stymied by inaccurate measurements of the atomic weights. In 1868, he revised his table, but this revision was published as a draft only after his death. In a paper dated December 1869 which appeared early in 1870, Meyer published a new periodic table of 55 elements, in which the series of periods are properly ended by an element of the alkaline earth metal group. The paper also included a line chart of relative atomic volumes, which illustrated periodic relationships of physical characteristics of the elements, and which assisted Meyer in deciding where elements should appear in his periodic table. By this time he had already seen the publication of Mendeleev\\'s first periodic table, but his work appears to have been largely independent.\\n\\nRussian chemist Dmitri Mendeleev arranged the elements by atomic mass, corresponding to relative molar mass. It is sometimes said that he played \"chemical solitaire\" on long train journeys, using cards with various facts about the known elements. Another possibility is that he was inspired in part by the periodicity of the Sanskrit alphabet, which was pointed out to him by his friend an linguist Otto von Böhtlingk. Mendeleev used the trends he saw to suggest that atomic weights of some elements were incorrect and accordingly changed their placing: for instance, he figured there was no place for a trivalent uranium with the mass of 120 in his work, and he doubled both the atomic weight and valency of uranium, suggesting it was a hexavalent element with the atomic weight of 240. Mendeleev also figured some spots in his ordering had no element to match, and he left gaps on account of future discoveries of these elements, using the elements before and after those missing ones to predict their properties. In 1869, he finalized his first work and had it published. Mendeleev also sent it to a number of well-known chemists, including Meyer; this preceded Meyer\\'s first comprehensive periodic table which he published a few months later, acknowledging Mendeleev\\'s priority.  Mendeleev continued to improve his ordering; in 1870, it gained a tabular shape, and in 1871, it was titled \"periodic table\". Some changes also occurred with new revisions, with some elements changing positions. \\nThe first of Mendeleev\\'s predictions was confirmed in 1875, when gallium was discovered; its properties were close to Mendeleev\\'s predictions for what he termed eka-aluminium. Two more of his predictions were confirmed within another decade. Mendeleev was even able to correct some initial measurements with his predictions. Later chemists used this to justify Mendeleev\\'s table.\\n\\n\\n=== Aftermath ===\\nIn 1882, both Meyer and Mendeleev received the Davy Medal from the Royal Society in recognition of their work on the periodic law.\\nThe importance of Newlands\\' analysis was eventually recognized by the Chemistry Society with a Gold Medal five years after they recognized Mendeleev\\'s work. It was not until the following century, with Gilbert N. Lewis\\'s valence bond theory (1916) and Irving Langmuir\\'s octet theory of chemical bonding (1919), that the importance of the periodicity of eight would be accepted.\\n\\n\\n== Pre-atomic theory developments ==\\n\\nEnglish chemist Henry Cavendish, the discoverer of hydrogen in 1766, discovered that air is composed of more gases than nitrogen and oxygen. He recorded these findings in 1784 and 1785; among them, he found a then-unidentified gas less reactive than nitrogen. Although helium was discovered in 1868, its chemistry was not investigated at that time. In 1895, William Ramsay and Lord Rayleigh isolated argon from air and determined that it was a new element. Following this discovery, Ramsay noted that an entire group of gases, the noble gases, was missing from the periodic table. Using fractional distillation to separate air, Ramsay discovered three more noble gases in 1898: neon, krypton, and xenon. Although Mendeleev\\'s table predicted several undiscovered elements, it did not predict the existence of noble gases. Mendeleev added them to the table as Group 0 in 1902, without disturbing the basic concept of the periodic table.In addition to the predictions of scandium, gallium, and germanium that were quickly realized, Mendeleev\\'s 1871 table left many more spaces for undiscovered elements, though he did not provide detailed predictions of their properties. In total, he predicted eighteen elements, though only half corresponded to elements that were later discovered. He observed that an entire row of his table appeared to be missing between cerium and tantalum, attributing this anomaly to the presumed nature of these elements. This arrangement was used to maintain consistency with the eight-column structure, as well as the placement of the elements from osmium to gold, which were known to be analogs of ruthenium through silver. Nevertheless, he predicted the atomic weights for some of these elements, ranging from 140 for eka-molybdenum to 175 for eka-caesium. While elements with these atomic weights were later discovered, their chemistry did not correspond to the gaps in Mendeleev\\'s table. Several heavier analogs were correctly predicted, such as tri-manganese (rhenium) and dvi-iodine (astatine), though they were later found to occupy the positions of dvi-manganese and eka-iodine respectively. This imprecise use of prefixes was caused by a break in the table\\'s structure—the apparent \"dead zone\" between cerium and tantalum—itself a consequence of Mendeleev\\'s strict adherence to the eight-column structure.By 1904, Mendeleev\\'s table rearranged several elements, and included the noble gases along with most other newly discovered elements. It still had the dead zone, and a row zero was added above hydrogen and helium to include coronium and the ether, which were widely believed to be elements at the time. Although the Michelson-Morley Experiment in 1887 cast doubt on the possibility of a luminiferous ether as a space-filling medium, physicists set constraints for its properties. Mendeleev believed it to be a very light gas, with an atomic weight several orders of magnitude smaller than that of hydrogen. He also postulated that it would rarely interact with other elements, similar to the noble gases of his group zero, and instead permeate substances at a velocity of 2,250 kilometres (1,400 mi) per second.In 1905, Swiss chemist Alfred Werner resolved the dead zone of Mendeleev\\'s table. He determined that the rare earth elements (lanthanides), 13 of which were known, lay within that gap. Although Mendeleev knew of lanthanum, cerium, and erbium, they were previously unaccounted for in the table because the number of lanthanides and their exact order were not known. This was in part a consequence of their similar chemistry and imprecise determination of their atomic masses. Combined with the lack of a known group of similar elements, this rendered the placement of the lanthanides in the periodic table difficult. This discovery led to a restructuring of the table and the first appearance of the 32-column form.\\n\\n\\n== Atomic theory and isotopes ==\\n\\nFour radioactive elements were known in 1900: radium, actinium, thorium, and uranium. These radioactive elements (termed \"radioelements\") were accordingly placed at the bottom of the periodic table, as they were known to have greater atomic weights than stable elements, although their exact order was not known. Researchers believed there were still more radioactive elements yet to be discovered, and during the next decade, the decay chains of thorium and uranium were extensively studied. Many new radioactive substances were found, including the noble gas radon, and their chemical properties were investigated. By 1912, almost 50 different radioactive substances had been found in the decay chains of thorium and uranium. American chemist Bertram Boltwood proposed several decay chains linking these radioelements between uranium and lead. These were thought at the time to be new chemical elements, substantially increasing the number of known \"elements\" and leading to speculations that their discoveries would undermine the concept of the periodic table. For example, there was not enough room between lead and uranium to accommodate these discoveries, even assuming that some discoveries were duplicates or misidentifications. It was also believed that radioactive decay violated one of the central principles of the periodic table, namely that chemical elements could not undergo transmutations and always had unique identities.Frederick Soddy and Kazimierz Fajans found in 1913 that although these substances emitted different radiation, many of these substances were identical in their chemical characteristics, so shared the same place on the periodic table. They became known as isotopes, from the Greek isos topos (\"same place\").  Austrian chemist Friedrich Paneth cited a difference between \"real elements\" (elements) and \"simple substances\" (isotopes), also determining that the existence of different isotopes was mostly irrelevant in determining chemical properties.Following Charles Glover Barkla\\'s discovery of characteristic X-rays emitted from metals in 1906, English physicist Henry Moseley considered a possible correlation between x-ray emissions and physical properties of elements. Moseley, along with Charles Galton Darwin, Niels Bohr, and George de Hevesy, proposed that the atomic mass (A) or nuclear charge (Z) may be mathematically related to physical properties. The significance of these atomic properties was determined in the Geiger-Marsden experiment, in which the atomic nucleus and its charge were discovered.In 1913, amateur Dutch physicist Antonius van den Broek was the first to propose that the atomic number (nuclear charge) determined the placement of elements in the periodic table. He correctly determined the atomic number of all elements up to atomic number 50 (tin), though he made several errors with heavier elements. However, Broek did not have any method to experimentally verify the atomic numbers of elements; thus, they were still believed to be a consequence of atomic weight, which remained in use in ordering elements.Moseley was determined to test Broek\\'s hypothesis. After a year of investigation of the Fraunhofer lines of various elements, he found a relationship between the X-ray wavelength of an element and its atomic number. With this, Moseley obtained the first accurate measurements of atomic numbers and determined an absolute sequence to the elements, allowing him to restructure the periodic table. Moseley\\'s research immediately resolved discrepancies between atomic weight and chemical properties, where sequencing strictly by atomic weight would result in groups with inconsistent chemical peroperties. For example, his measurements of X-ray wavelengths enabled him to correctly place argon (Z = 18) before potassium (Z = 19), cobalt (Z = 27) before nickel (Z = 28), as well as tellurium (Z = 52) before iodine (Z = 53), in line with periodic trends. The determination of atomic numbers also clarified the order of chemically similar rare earth elements; it was also used to confirm that Georges Urbain\\'s claimed discovery of a new rare earth element (celtium) was invalid, earning Moseley acclamation for this technique.Swedish physicist Karl Siegbahn continued Moseley\\'s work for elements heavier than gold (Z = 79), and found that the heaviest known element at the time, uranium, had atomic number 92. In determining the largest identified atomic number, gaps in the atomic number sequence were conclusively determined where an atomic number had no known corresponding element; the gaps occurred at atomic numbers 43, 61, 72, 75, 85, and 87.In the 1910s and 1920s, pioneering research into quantum mechanics led to new developments in atomic theory and small changes to the periodic table. The Bohr model was developed during this time, and championed the idea of electron configurations that determine chemical properties. Bohr proposed that elements in the same group behaved similarly because they have similar electron configurations, and that noble gases had filled valence shells; this forms the basis of the modern octet rule. This research then led Austrian physicist Wolfgang Pauli to investigate the length of periods in the periodic table in 1924. Mendeleev asserted that there was a fixed periodicity of eight, and expected a mathematical correlation between atomic number and chemical properties; Pauli demonstrated that this was not the case. Instead, the Pauli exclusion principle was developed. This states that no electrons can coexist in the same quantum state, and showed, in conjunction with empirical observations, the existence of four quantum numbers and the consequence on the order of shell filling. This determines the order in which electron shells are filled and explains the periodicity of the periodic table.\\nBritish chemist Charles Bury is credited with the first use of the term transition metal in 1921 to refer to elements between the main-group elements of groups II and III. He explained the chemical properties of transition elements as a consequence of the filling of an inner subshell rather than the valence shell. This proposition, based upon the work of American chemist Gilbert N. Lewis, suggested the appearance of the d subshell in period 4 and the f subshell in period 6, lengthening the periods from 8 to 18 and then 18 to 32 elements.\\n\\n\\n== Looking for expansions and the end of the periodic table ==\\nAs early as 1913, Bohr\\'s research on electronic structure led physicists such as Johannes Rydberg to extrapolate the properties of undiscovered elements heavier than uranium. Many agreed that the next noble gas after radon would most likely have the atomic number 118, from which it followed that the transition series in the seventh period should resemble those in the sixth. Although it was thought that these transition series would include a series analogous to the rare earth elements, characterized by filling of the 5f shell, it was unknown where this series began. Predictions ranged from atomic number 90 (thorium) to 99, many proposing a beginning beyond the known elements at or beyond atomic number 93. The elements from actinium to uranium were instead believed to form a fourth series of transition metals because of their high oxidation states; accordingly, they were placed in groups 3 through 6.In 1940, neptunium and plutonium were the first transuranic elements to be discovered; they were placed in sequence beneath rhenium and osmium, respectively. However, preliminary investigations of their chemistry suggested a greater similarity to uranium than to lighter transition metals, challenging their placement in the periodic table. During his Manhattan Project research in 1943, Glenn T. Seaborg experienced unexpected difficulties in isolating the elements americium and curium, as they were believed to be part of a fourth series of transition metals. Seaborg wondered if these elements belonged to a different series, which would explain why their chemical properties, in particular the instability of higher oxidation states, were different from predictions. In 1945, against the advice of colleagues, he proposed a significant change to Mendeleev\\'s table: the actinide series.Seaborg\\'s actinide concept of heavy element electronic structure, predicting that the actinides form a transition series analogous to the rare earth series of lanthanide elements, is now well accepted and included in the periodic table. The actinide series is the second row of the f-block (5f series), and comprises the elements from actinium to lawrencium. In both the actinide and lanthanide series, an inner electron shell is being filled.\\nSeaborg\\'s subsequent elaborations of the actinide concept theorized a series of superheavy elements in a transactinide series comprising elements from 104 to 121 and a superactinide series of elements from 122 to 153. He proposed an extended periodic table with an additional period of 50 elements (thus reaching element 168); this eighth period was derived from an extrapolation of the Aufbau principle and placed elements 121 to 138 in a g-block, in which a new g subshell would be filled. Seaborg\\'s model, however, did not take into account relativistic effects resulting from high atomic number and electron orbital speed. Burkhard Fricke in 1971 and Pekka Pyykkö in 2010 used computer modeling to calculate the positions of elements up to Z = 172, and found that the positions of several elements were different from those predicted by Seaborg. Although models from Pyykkö, Fricke, and Nefedov et al. generally place element 172 as the next noble gas, there is no clear consensus on the electron configurations of elements beyond 120 and thus their placement in an extended periodic table. It is now thought that because of relativistic effects, such an extension will feature elements that break the periodicity in known elements, thus posing another hurdle to future periodic table constructs.The discovery of tennessine in 2010 filled the last remaining gap in the seventh period. Any newly discovered elements will thus be placed in an eighth period.\\nDespite the completion of the seventh period, experimental chemistry of some transactinides has been shown to be inconsistent with the periodic law. In the 1990s, Ken Czerwinski at University of California, Berkeley observed similarities between rutherfordium and plutonium and dubnium and protactinium, rather than a clear continuation of periodicity in groups 4 and 5. More recent experiments on copernicium and flerovium have yielded inconsistent results, some of which suggest that these elements behave more like the noble gas radon rather than mercury and lead, their respective congeners. As such, the chemistry of many superheavy elements has yet to be well-characterized, and it remains unclear whether the periodic law can still be used to extrapolate the properties of undiscovered elements.\\n\\n\\n== See also ==\\n\\n\\n== References ==\\n\\n\\n== External links ==\\nDevelopment of the periodic table (part of a collection of pages that explores the periodic table and the elements) by the Royal Society of Chemistry\\nDr. Eric Scerri\\'s web page, which contains interviews, lectures and articles on various aspects of the periodic system, including the history of the periodic table.\\nThe Internet Database of Periodic Tables – a large collection of periodic tables and periodic system formulations.\\nHistory of Mendeleev periodic table of elements as a data visualization at Stack Exchange'"
      ]
     },
     "execution_count": 9,
     "metadata": {},
     "output_type": "execute_result"
    }
   ],
   "source": [
    "# Find which sentence is most similar to the question\n",
    "content_on_page = wikipedia.page(matches[best_match]).content\n",
    "content_on_page"
   ]
  },
  {
   "cell_type": "code",
   "execution_count": 10,
   "metadata": {},
   "outputs": [
    {
     "data": {
      "text/plain": [
       "'The periodic table is an arrangement of the chemical elements, which are organized on the basis of their atomic numbers, electron configurations and recurring chemical properties. Elements are presented in order of increasing atomic number. The standard form of the table consists of a grid with rows called periods and columns called groups.\\nThe history of the periodic table reflects over two centuries of growth in the understanding of chemical properties, with major contributions made by Antoine-Laurent de Lavoisier, Johann Wolfgang Döbereiner, John Newlands, Julius Lothar Meyer, Dmitri Mendeleev, and Glenn T. Seaborg.\\n\\n\\n== Early history ==\\n\\nA number of physical elements (such as platinum, mercury, tin and zinc) have been known from antiquity, as they are found in their native form and are relatively simple to mine with primitive tools. Around 330 BCE, the Greek philosopher Aristotle proposed that everything is made up of a mixture of one or more roots, an idea that had originally been suggested by the Sicilian philosopher Empedocles. The four roots, which were later renamed as elements by Plato, were earth, water, air and fire. Similar ideas about these four elements also existed in other ancient traditions, such as Indian philosophy.\\n\\n\\n== First categorizations ==\\nThe history of the periodic table is also a history of the discovery of the chemical elements. The first person in history to discover a new element was Hennig Brand, a bankrupt German merchant. Brand tried to discover the Philosopher\\'s Stone—a mythical object that was supposed to turn inexpensive base metals into gold. In 1669 (or later), his experiments with distilled human urine resulted in the production of a glowing white substance, which he called \"cold fire\" (kaltes Feuer). He kept his discovery secret until 1680, when Robert Boyle rediscovered phosphorus and published his findings. The discovery of phosphorus helped to raise the question of what it meant for a substance to be an element.\\nIn 1661, Boyle defined an element as \"those primitive and simple Bodies of which the mixt ones are said to be composed, and into which they are ultimately resolved.\"\\n\\nLavoisier\\'s Traité Élémentaire de Chimie (Elementary Treatise of Chemistry), which was written in 1789 and first translated into English by the writer Robert Kerr, is considered to be the first modern textbook about chemistry. Lavoisier defined an element as a substance that cannot be broken down into a simpler substance by a chemical reaction. This simple definition served for a century and lasted until the discovery of subatomic particles. Lavoisier\\'s book contained a list of \"simple substances\" that Lavoisier believed could not be broken down further, which included oxygen, nitrogen, hydrogen, phosphorus, mercury, zinc and sulfur, which formed the basis for the modern list of elements. Lavoisier\\'s list also included \\'light\\' and \\'caloric\\', which at the time were believed to be material substances. He classified these substances into metals and non metals. While many leading chemists refused to believe Lavoisier\\'s new revelations, the Elementary Treatise was written well enough to convince the younger generation. However, Lavoisier\\'s descriptions of his elements lack completeness, as he only classified them as metals and non-metals.\\nIn 1815, the English physician and chemist William Prout noticed that atomic weights seemed to be multiples of that of hydrogen.In 1817, Johann Wolfgang Döbereiner, a chemist, began to formulate one of the earliest attempts to classify the elements. In 1829, he found that he could form some of the elements into groups of three, with the members of each group having related properties. He termed these groups triads.Definition of Triad law:-\"Chemically analogous elements arranged in increasing order of their atomic weights formed well marked groups of three called Triads in which the atomic weight of the middle element was found to be generally the arithmetic mean of the atomic weight of the other two elements in the triad.\\n\\nchlorine, bromine, and iodine\\ncalcium, strontium, and barium\\nsulfur, selenium, and tellurium\\nlithium, sodium, and potassiumIn 1860, a revised list of elements and atomic masses was presented at a conference in Karlsruhe. It helped spur creation of more extensive systems. The first such system emerged in two years.\\n\\n\\n== Comprehensive formalizations ==\\nFrench geologist Alexandre-Emile Béguyer de Chancourtois noticed that the elements, when ordered by their atomic weights, displayed similar properties at regular intervals. In 1862, he devised a three-dimensional chart, named the \"telluric helix\", after the element tellurium, which fell near the center of his diagram. With the elements arranged in a spiral on a cylinder by order of increasing atomic weight, de Chancourtois saw that elements with similar properties lined up vertically. The original paper from Chancourtois in Comptes Rendus de l\\'Académie des Sciences did not include a chart and used geological rather than chemical terms. In 1863, he extended his work by including a chart and adding ions and compounds.\\n\\nThe next attempt was made in 1864. British chemist John Newlands presented a classification of the sixty-two known elements. Newlands noticed recurring trends in physical properties of the elements at recurring intervals of multiples of eight in order of mass number; based on this observation, he produced a classification of these elements into eight groups. Each group displayed a similar progression; Newlands likened these progressions to the progression of notes within a musical scale. Newlands\\' table left no gaps for possible future elements, and in some cases had two elements at the same position in the same octave. Newlands\\' table was ridiculed by some of his contemporaries. The Chemical Society refused to publish his work. The president of the Society, William Odling, defended the Society\\'s decision by saying that such \\'theoretical\\' topics might be controversial; there was even harsher opposition from within the Society, suggesting the elements could have been just as well listed alphabetically. Later that year, Odling suggested a table of his own but failed to get recognition following his role in opposing Newlands\\' table.\\n\\nGerman chemist Lothar Meyer also noted the sequences of similar chemical and physical properties repeated at periodic intervals. According to him, if the atomic weights were plotted as ordinates (i.e vertically) and the atomic volumes as abscissae (i.e. horizontally)—the curve obtained a series of maximums and minimums—the most electropositive elements would appear at the peaks of the curve in the order of their atomic weights. In 1864, a book of his was published; it contained an early version of the periodic table containing 28 elements, and classified elements into six families by their valence—for the first time, elements had been grouped according to their valence. Works on organizing the elements by atomic weight had until then been stymied by inaccurate measurements of the atomic weights. In 1868, he revised his table, but this revision was published as a draft only after his death. In a paper dated December 1869 which appeared early in 1870, Meyer published a new periodic table of 55 elements, in which the series of periods are properly ended by an element of the alkaline earth metal group. The paper also included a line chart of relative atomic volumes, which illustrated periodic relationships of physical characteristics of the elements, and which assisted Meyer in deciding where elements should appear in his periodic table. By this time he had already seen the publication of Mendeleev\\'s first periodic table, but his work appears to have been largely independent.\\n\\nRussian chemist Dmitri Mendeleev arranged the elements by atomic mass, corresponding to relative molar mass. It is sometimes said that he played \"chemical solitaire\" on long train journeys, using cards with various facts about the known elements. Another possibility is that he was inspired in part by the periodicity of the Sanskrit alphabet, which was pointed out to him by his friend an linguist Otto von Böhtlingk. Mendeleev used the trends he saw to suggest that atomic weights of some elements were incorrect and accordingly changed their placing: for instance, he figured there was no place for a trivalent uranium with the mass of 120 in his work, and he doubled both the atomic weight and valency of uranium, suggesting it was a hexavalent element with the atomic weight of 240. Mendeleev also figured some spots in his ordering had no element to match, and he left gaps on account of future discoveries of these elements, using the elements before and after those missing ones to predict their properties. In 1869, he finalized his first work and had it published. Mendeleev also sent it to a number of well-known chemists, including Meyer; this preceded Meyer\\'s first comprehensive periodic table which he published a few months later, acknowledging Mendeleev\\'s priority.  Mendeleev continued to improve his ordering; in 1870, it gained a tabular shape, and in 1871, it was titled \"periodic table\". Some changes also occurred with new revisions, with some elements changing positions. \\nThe first of Mendeleev\\'s predictions was confirmed in 1875, when gallium was discovered; its properties were close to Mendeleev\\'s predictions for what he termed eka-aluminium. Two more of his predictions were confirmed within another decade. Mendeleev was even able to correct some initial measurements with his predictions. Later chemists used this to justify Mendeleev\\'s table.\\n\\n\\n=== Aftermath ===\\nIn 1882, both Meyer and Mendeleev received the Davy Medal from the Royal Society in recognition of their work on the periodic law.\\nThe importance of Newlands\\' analysis was eventually recognized by the Chemistry Society with a Gold Medal five years after they recognized Mendeleev\\'s work. It was not until the following century, with Gilbert N. Lewis\\'s valence bond theory (1916) and Irving Langmuir\\'s octet theory of chemical bonding (1919), that the importance of the periodicity of eight would be accepted.\\n\\n\\n== Pre-atomic theory developments ==\\n\\nEnglish chemist Henry Cavendish, the discoverer of hydrogen in 1766, discovered that air is composed of more gases than nitrogen and oxygen. He recorded these findings in 1784 and 1785; among them, he found a then-unidentified gas less reactive than nitrogen. Although helium was discovered in 1868, its chemistry was not investigated at that time. In 1895, William Ramsay and Lord Rayleigh isolated argon from air and determined that it was a new element. Following this discovery, Ramsay noted that an entire group of gases, the noble gases, was missing from the periodic table. Using fractional distillation to separate air, Ramsay discovered three more noble gases in 1898: neon, krypton, and xenon. Although Mendeleev\\'s table predicted several undiscovered elements, it did not predict the existence of noble gases. Mendeleev added them to the table as Group 0 in 1902, without disturbing the basic concept of the periodic table.In addition to the predictions of scandium, gallium, and germanium that were quickly realized, Mendeleev\\'s 1871 table left many more spaces for undiscovered elements, though he did not provide detailed predictions of their properties. In total, he predicted eighteen elements, though only half corresponded to elements that were later discovered. He observed that an entire row of his table appeared to be missing between cerium and tantalum, attributing this anomaly to the presumed nature of these elements. This arrangement was used to maintain consistency with the eight-column structure, as well as the placement of the elements from osmium to gold, which were known to be analogs of ruthenium through silver. Nevertheless, he predicted the atomic weights for some of these elements, ranging from 140 for eka-molybdenum to 175 for eka-caesium. While elements with these atomic weights were later discovered, their chemistry did not correspond to the gaps in Mendeleev\\'s table. Several heavier analogs were correctly predicted, such as tri-manganese (rhenium) and dvi-iodine (astatine), though they were later found to occupy the positions of dvi-manganese and eka-iodine respectively. This imprecise use of prefixes was caused by a break in the table\\'s structure—the apparent \"dead zone\" between cerium and tantalum—itself a consequence of Mendeleev\\'s strict adherence to the eight-column structure.By 1904, Mendeleev\\'s table rearranged several elements, and included the noble gases along with most other newly discovered elements. It still had the dead zone, and a row zero was added above hydrogen and helium to include coronium and the ether, which were widely believed to be elements at the time. Although the Michelson-Morley Experiment in 1887 cast doubt on the possibility of a luminiferous ether as a space-filling medium, physicists set constraints for its properties. Mendeleev believed it to be a very light gas, with an atomic weight several orders of magnitude smaller than that of hydrogen. He also postulated that it would rarely interact with other elements, similar to the noble gases of his group zero, and instead permeate substances at a velocity of 2,250 kilometres (1,400 mi) per second.In 1905, Swiss chemist Alfred Werner resolved the dead zone of Mendeleev\\'s table. He determined that the rare earth elements (lanthanides), 13 of which were known, lay within that gap. Although Mendeleev knew of lanthanum, cerium, and erbium, they were previously unaccounted for in the table because the number of lanthanides and their exact order were not known. This was in part a consequence of their similar chemistry and imprecise determination of their atomic masses. Combined with the lack of a known group of similar elements, this rendered the placement of the lanthanides in the periodic table difficult. This discovery led to a restructuring of the table and the first appearance of the 32-column form.\\n\\n\\n== Atomic theory and isotopes ==\\n\\nFour radioactive elements were known in 1900: radium, actinium, thorium, and uranium. These radioactive elements (termed \"radioelements\") were accordingly placed at the bottom of the periodic table, as they were known to have greater atomic weights than stable elements, although their exact order was not known. Researchers believed there were still more radioactive elements yet to be discovered, and during the next decade, the decay chains of thorium and uranium were extensively studied. Many new radioactive substances were found, including the noble gas radon, and their chemical properties were investigated. By 1912, almost 50 different radioactive substances had been found in the decay chains of thorium and uranium. American chemist Bertram Boltwood proposed several decay chains linking these radioelements between uranium and lead. These were thought at the time to be new chemical elements, substantially increasing the number of known \"elements\" and leading to speculations that their discoveries would undermine the concept of the periodic table. For example, there was not enough room between lead and uranium to accommodate these discoveries, even assuming that some discoveries were duplicates or misidentifications. It was also believed that radioactive decay violated one of the central principles of the periodic table, namely that chemical elements could not undergo transmutations and always had unique identities.Frederick Soddy and Kazimierz Fajans found in 1913 that although these substances emitted different radiation, many of these substances were identical in their chemical characteristics, so shared the same place on the periodic table. They became known as isotopes, from the Greek isos topos (\"same place\").  Austrian chemist Friedrich Paneth cited a difference between \"real elements\" (elements) and \"simple substances\" (isotopes), also determining that the existence of different isotopes was mostly irrelevant in determining chemical properties.Following Charles Glover Barkla\\'s discovery of characteristic X-rays emitted from metals in 1906, English physicist Henry Moseley considered a possible correlation between x-ray emissions and physical properties of elements. Moseley, along with Charles Galton Darwin, Niels Bohr, and George de Hevesy, proposed that the atomic mass (A) or nuclear charge (Z) may be mathematically related to physical properties. The significance of these atomic properties was determined in the Geiger-Marsden experiment, in which the atomic nucleus and its charge were discovered.In 1913, amateur Dutch physicist Antonius van den Broek was the first to propose that the atomic number (nuclear charge) determined the placement of elements in the periodic table. He correctly determined the atomic number of all elements up to atomic number 50 (tin), though he made several errors with heavier elements. However, Broek did not have any method to experimentally verify the atomic numbers of elements; thus, they were still believed to be a consequence of atomic weight, which remained in use in ordering elements.Moseley was determined to test Broek\\'s hypothesis. After a year of investigation of the Fraunhofer lines of various elements, he found a relationship between the X-ray wavelength of an element and its atomic number. With this, Moseley obtained the first accurate measurements of atomic numbers and determined an absolute sequence to the elements, allowing him to restructure the periodic table. Moseley\\'s research immediately resolved discrepancies between atomic weight and chemical properties, where sequencing strictly by atomic weight would result in groups with inconsistent chemical peroperties. For example, his measurements of X-ray wavelengths enabled him to correctly place argon (Z = 18) before potassium (Z = 19), cobalt (Z = 27) before nickel (Z = 28), as well as tellurium (Z = 52) before iodine (Z = 53), in line with periodic trends. The determination of atomic numbers also clarified the order of chemically similar rare earth elements; it was also used to confirm that Georges Urbain\\'s claimed discovery of a new rare earth element (celtium) was invalid, earning Moseley acclamation for this technique.Swedish physicist Karl Siegbahn continued Moseley\\'s work for elements heavier than gold (Z = 79), and found that the heaviest known element at the time, uranium, had atomic number 92. In determining the largest identified atomic number, gaps in the atomic number sequence were conclusively determined where an atomic number had no known corresponding element; the gaps occurred at atomic numbers 43, 61, 72, 75, 85, and 87.In the 1910s and 1920s, pioneering research into quantum mechanics led to new developments in atomic theory and small changes to the periodic table. The Bohr model was developed during this time, and championed the idea of electron configurations that determine chemical properties. Bohr proposed that elements in the same group behaved similarly because they have similar electron configurations, and that noble gases had filled valence shells; this forms the basis of the modern octet rule. This research then led Austrian physicist Wolfgang Pauli to investigate the length of periods in the periodic table in 1924. Mendeleev asserted that there was a fixed periodicity of eight, and expected a mathematical correlation between atomic number and chemical properties; Pauli demonstrated that this was not the case. Instead, the Pauli exclusion principle was developed. This states that no electrons can coexist in the same quantum state, and showed, in conjunction with empirical observations, the existence of four quantum numbers and the consequence on the order of shell filling. This determines the order in which electron shells are filled and explains the periodicity of the periodic table.\\nBritish chemist Charles Bury is credited with the first use of the term transition metal in 1921 to refer to elements between the main-group elements of groups II and III. He explained the chemical properties of transition elements as a consequence of the filling of an inner subshell rather than the valence shell. This proposition, based upon the work of American chemist Gilbert N. Lewis, suggested the appearance of the d subshell in period 4 and the f subshell in period 6, lengthening the periods from 8 to 18 and then 18 to 32 elements.\\n\\n\\n== Looking for expansions and the end of the periodic table ==\\nAs early as 1913, Bohr\\'s research on electronic structure led physicists such as Johannes Rydberg to extrapolate the properties of undiscovered elements heavier than uranium. Many agreed that the next noble gas after radon would most likely have the atomic number 118, from which it followed that the transition series in the seventh period should resemble those in the sixth. Although it was thought that these transition series would include a series analogous to the rare earth elements, characterized by filling of the 5f shell, it was unknown where this series began. Predictions ranged from atomic number 90 (thorium) to 99, many proposing a beginning beyond the known elements at or beyond atomic number 93. The elements from actinium to uranium were instead believed to form a fourth series of transition metals because of their high oxidation states; accordingly, they were placed in groups 3 through 6.In 1940, neptunium and plutonium were the first transuranic elements to be discovered; they were placed in sequence beneath rhenium and osmium, respectively. However, preliminary investigations of their chemistry suggested a greater similarity to uranium than to lighter transition metals, challenging their placement in the periodic table. During his Manhattan Project research in 1943, Glenn T. Seaborg experienced unexpected difficulties in isolating the elements americium and curium, as they were believed to be part of a fourth series of transition metals. Seaborg wondered if these elements belonged to a different series, which would explain why their chemical properties, in particular the instability of higher oxidation states, were different from predictions. In 1945, against the advice of colleagues, he proposed a significant change to Mendeleev\\'s table: the actinide series.Seaborg\\'s actinide concept of heavy element electronic structure, predicting that the actinides form a transition series analogous to the rare earth series of lanthanide elements, is now well accepted and included in the periodic table. The actinide series is the second row of the f-block (5f series), and comprises the elements from actinium to lawrencium. In both the actinide and lanthanide series, an inner electron shell is being filled.\\nSeaborg\\'s subsequent elaborations of the actinide concept theorized a series of superheavy elements in a transactinide series comprising elements from 104 to 121 and a superactinide series of elements from 122 to 153. He proposed an extended periodic table with an additional period of 50 elements (thus reaching element 168); this eighth period was derived from an extrapolation of the Aufbau principle and placed elements 121 to 138 in a g-block, in which a new g subshell would be filled. Seaborg\\'s model, however, did not take into account relativistic effects resulting from high atomic number and electron orbital speed. Burkhard Fricke in 1971 and Pekka Pyykkö in 2010 used computer modeling to calculate the positions of elements up to Z = 172, and found that the positions of several elements were different from those predicted by Seaborg. Although models from Pyykkö, Fricke, and Nefedov et al. generally place element 172 as the next noble gas, there is no clear consensus on the electron configurations of elements beyond 120 and thus their placement in an extended periodic table. It is now thought that because of relativistic effects, such an extension will feature elements that break the periodicity in known elements, thus posing another hurdle to future periodic table constructs.The discovery of tennessine in 2010 filled the last remaining gap in the seventh period. Any newly discovered elements will thus be placed in an eighth period.\\nDespite the completion of the seventh period, experimental chemistry of some transactinides has been shown to be inconsistent with the periodic law. In the 1990s, Ken Czerwinski at University of California, Berkeley observed similarities between rutherfordium and plutonium and dubnium and protactinium, rather than a clear continuation of periodicity in groups 4 and 5. More recent experiments on copernicium and flerovium have yielded inconsistent results, some of which suggest that these elements behave more like the noble gas radon rather than mercury and lead, their respective congeners. As such, the chemistry of many superheavy elements has yet to be well-characterized, and it remains unclear whether the periodic law can still be used to extrapolate the properties of undiscovered elements.\\n\\n\\n== See also ==\\n\\n\\n== References ==\\n\\n\\n== External links ==\\nDevelopment of the periodic table (part of a collection of pages that explores the periodic table and the elements) by the Royal Society of Chemistry\\nDr. Eric Scerri\\'s web page, which contains interviews, lectures and articles on various aspects of the periodic system, including the history of the periodic table.\\nThe Internet Database of Periodic Tables – a large collection of periodic tables and periodic system formulations.\\nHistory of Mendeleev periodic table of elements as a data visualization at Stack Exchange'"
      ]
     },
     "execution_count": 10,
     "metadata": {},
     "output_type": "execute_result"
    }
   ],
   "source": [
    "content_on_page"
   ]
  },
  {
   "cell_type": "code",
   "execution_count": 11,
   "metadata": {},
   "outputs": [],
   "source": [
    "import re\n",
    "from nltk.tokenize import word_tokenize\n",
    "wnl = nltk.WordNetLemmatizer()\n",
    "# Clean Sentences\n",
    "doc = content_on_page\n",
    "doc = doc.lower()\n",
    "sents = nltk.sent_tokenize(doc)\n",
    "processed_sents = []\n",
    "for sent in sents:\n",
    "    words = word_tokenize(sent)\n",
    "    words = [re.sub(r'[^A-Za-z_\\s]', '', w) for w in words]\n",
    "    words = [wnl.lemmatize(w) for w in words if w.strip() != '']\n",
    "    processed_sent = \" \".join(words)\n",
    "    processed_sents.append(processed_sent)"
   ]
  },
  {
   "cell_type": "code",
   "execution_count": 12,
   "metadata": {},
   "outputs": [
    {
     "data": {
      "text/plain": [
       "['the periodic table is an arrangement of the chemical element which are organized on the basis of their atomic number electron configuration and recurring chemical property',\n",
       " 'element are presented in order of increasing atomic number',\n",
       " 'the standard form of the table consists of a grid with row called period and column called group',\n",
       " 'the history of the periodic table reflects over two century of growth in the understanding of chemical property with major contribution made by antoinelaurent de lavoisier johann wolfgang dbereiner john newlands julius lothar meyer dmitri mendeleev and glenn t seaborg',\n",
       " 'early history a number of physical element such a platinum mercury tin and zinc have been known from antiquity a they are found in their native form and are relatively simple to mine with primitive tool',\n",
       " 'around bce the greek philosopher aristotle proposed that everything is made up of a mixture of one or more root an idea that had originally been suggested by the sicilian philosopher empedocles',\n",
       " 'the four root which were later renamed a element by plato were earth water air and fire',\n",
       " 'similar idea about these four element also existed in other ancient tradition such a indian philosophy',\n",
       " 'first categorization the history of the periodic table is also a history of the discovery of the chemical element',\n",
       " 'the first person in history to discover a new element wa hennig brand a bankrupt german merchant',\n",
       " 'brand tried to discover the philosopher s stonea mythical object that wa supposed to turn inexpensive base metal into gold',\n",
       " 'in or later his experiment with distilled human urine resulted in the production of a glowing white substance which he called cold fire kaltes feuer',\n",
       " 'he kept his discovery secret until when robert boyle rediscovered phosphorus and published his finding',\n",
       " 'the discovery of phosphorus helped to raise the question of what it meant for a substance to be an element',\n",
       " 'in boyle defined an element a those primitive and simple body of which the mixt one are said to be composed and into which they are ultimately resolved',\n",
       " 'lavoisier s trait lmentaire de chimie elementary treatise of chemistry which wa written in and first translated into english by the writer robert kerr is considered to be the first modern textbook about chemistry',\n",
       " 'lavoisier defined an element a a substance that can not be broken down into a simpler substance by a chemical reaction',\n",
       " 'this simple definition served for a century and lasted until the discovery of subatomic particle',\n",
       " 'lavoisier s book contained a list of simple substance that lavoisier believed could not be broken down further which included oxygen nitrogen hydrogen phosphorus mercury zinc and sulfur which formed the basis for the modern list of element',\n",
       " 'lavoisier s list also included light and caloric which at the time were believed to be material substance',\n",
       " 'he classified these substance into metal and non metal',\n",
       " 'while many leading chemist refused to believe lavoisier s new revelation the elementary treatise wa written well enough to convince the younger generation',\n",
       " 'however lavoisier s description of his element lack completeness a he only classified them a metal and nonmetal',\n",
       " 'in the english physician and chemist william prout noticed that atomic weight seemed to be multiple of that of hydrogenin johann wolfgang dbereiner a chemist began to formulate one of the earliest attempt to classify the element',\n",
       " 'in he found that he could form some of the element into group of three with the member of each group having related property',\n",
       " 'he termed these group triadsdefinition of triad law chemically analogous element arranged in increasing order of their atomic weight formed well marked group of three called triad in which the atomic weight of the middle element wa found to be generally the arithmetic mean of the atomic weight of the other two element in the triad',\n",
       " 'chlorine bromine and iodine calcium strontium and barium sulfur selenium and tellurium lithium sodium and potassiumin a revised list of element and atomic mass wa presented at a conference in karlsruhe',\n",
       " 'it helped spur creation of more extensive system',\n",
       " 'the first such system emerged in two year',\n",
       " 'comprehensive formalization french geologist alexandreemile bguyer de chancourtois noticed that the element when ordered by their atomic weight displayed similar property at regular interval',\n",
       " 'in he devised a threedimensional chart named the telluric helix after the element tellurium which fell near the center of his diagram',\n",
       " 'with the element arranged in a spiral on a cylinder by order of increasing atomic weight de chancourtois saw that element with similar property lined up vertically',\n",
       " 'the original paper from chancourtois in comptes rendus de lacadmie de science did not include a chart and used geological rather than chemical term',\n",
       " 'in he extended his work by including a chart and adding ion and compound',\n",
       " 'the next attempt wa made in british chemist john newlands presented a classification of the sixtytwo known element',\n",
       " 'newlands noticed recurring trend in physical property of the element at recurring interval of multiple of eight in order of mass number based on this observation he produced a classification of these element into eight group',\n",
       " 'each group displayed a similar progression newlands likened these progression to the progression of note within a musical scale',\n",
       " 'newlands table left no gap for possible future element and in some case had two element at the same position in the same octave',\n",
       " 'newlands table wa ridiculed by some of his contemporary',\n",
       " 'the chemical society refused to publish his work',\n",
       " 'the president of the society william odling defended the society s decision by saying that such theoretical topic might be controversial there wa even harsher opposition from within the society suggesting the element could have been just a well listed alphabetically',\n",
       " 'later that year odling suggested a table of his own but failed to get recognition following his role in opposing newlands table',\n",
       " 'german chemist lothar meyer also noted the sequence of similar chemical and physical property repeated at periodic interval',\n",
       " 'according to him if the atomic weight were plotted a ordinate ie vertically and the atomic volume a abscissa ie',\n",
       " 'horizontally the curve obtained a series of maximum and minimumsthe most electropositive element would appear at the peak of the curve in the order of their atomic weight',\n",
       " 'in a book of his wa published it contained an early version of the periodic table containing element and classified element into six family by their valencefor the first time element had been grouped according to their valence',\n",
       " 'work on organizing the element by atomic weight had until then been stymied by inaccurate measurement of the atomic weight',\n",
       " 'in he revised his table but this revision wa published a a draft only after his death',\n",
       " 'in a paper dated december which appeared early in meyer published a new periodic table of element in which the series of period are properly ended by an element of the alkaline earth metal group',\n",
       " 'the paper also included a line chart of relative atomic volume which illustrated periodic relationship of physical characteristic of the element and which assisted meyer in deciding where element should appear in his periodic table',\n",
       " 'by this time he had already seen the publication of mendeleev s first periodic table but his work appears to have been largely independent',\n",
       " 'russian chemist dmitri mendeleev arranged the element by atomic mass corresponding to relative molar mass',\n",
       " 'it is sometimes said that he played chemical solitaire on long train journey using card with various fact about the known element',\n",
       " 'another possibility is that he wa inspired in part by the periodicity of the sanskrit alphabet which wa pointed out to him by his friend an linguist otto von bhtlingk',\n",
       " 'mendeleev used the trend he saw to suggest that atomic weight of some element were incorrect and accordingly changed their placing for instance he figured there wa no place for a trivalent uranium with the mass of in his work and he doubled both the atomic weight and valency of uranium suggesting it wa a hexavalent element with the atomic weight of mendeleev also figured some spot in his ordering had no element to match and he left gap on account of future discovery of these element using the element before and after those missing one to predict their property',\n",
       " 'in he finalized his first work and had it published',\n",
       " 'mendeleev also sent it to a number of wellknown chemist including meyer this preceded meyer s first comprehensive periodic table which he published a few month later acknowledging mendeleev s priority',\n",
       " 'mendeleev continued to improve his ordering in it gained a tabular shape and in it wa titled periodic table',\n",
       " 'some change also occurred with new revision with some element changing position',\n",
       " 'the first of mendeleev s prediction wa confirmed in when gallium wa discovered it property were close to mendeleev s prediction for what he termed ekaaluminium',\n",
       " 'two more of his prediction were confirmed within another decade',\n",
       " 'mendeleev wa even able to correct some initial measurement with his prediction',\n",
       " 'later chemist used this to justify mendeleev s table',\n",
       " 'aftermath in both meyer and mendeleev received the davy medal from the royal society in recognition of their work on the periodic law',\n",
       " 'the importance of newlands analysis wa eventually recognized by the chemistry society with a gold medal five year after they recognized mendeleev s work',\n",
       " 'it wa not until the following century with gilbert n lewis s valence bond theory and irving langmuir s octet theory of chemical bonding that the importance of the periodicity of eight would be accepted',\n",
       " 'preatomic theory development english chemist henry cavendish the discoverer of hydrogen in discovered that air is composed of more gas than nitrogen and oxygen',\n",
       " 'he recorded these finding in and among them he found a thenunidentified gas le reactive than nitrogen',\n",
       " 'although helium wa discovered in it chemistry wa not investigated at that time',\n",
       " 'in william ramsay and lord rayleigh isolated argon from air and determined that it wa a new element',\n",
       " 'following this discovery ramsay noted that an entire group of gas the noble gas wa missing from the periodic table',\n",
       " 'using fractional distillation to separate air ramsay discovered three more noble gas in neon krypton and xenon',\n",
       " 'although mendeleev s table predicted several undiscovered element it did not predict the existence of noble gas',\n",
       " 'mendeleev added them to the table a group in without disturbing the basic concept of the periodic tablein addition to the prediction of scandium gallium and germanium that were quickly realized mendeleev s table left many more space for undiscovered element though he did not provide detailed prediction of their property',\n",
       " 'in total he predicted eighteen element though only half corresponded to element that were later discovered',\n",
       " 'he observed that an entire row of his table appeared to be missing between cerium and tantalum attributing this anomaly to the presumed nature of these element',\n",
       " 'this arrangement wa used to maintain consistency with the eightcolumn structure a well a the placement of the element from osmium to gold which were known to be analog of ruthenium through silver',\n",
       " 'nevertheless he predicted the atomic weight for some of these element ranging from for ekamolybdenum to for ekacaesium',\n",
       " 'while element with these atomic weight were later discovered their chemistry did not correspond to the gap in mendeleev s table',\n",
       " 'several heavier analog were correctly predicted such a trimanganese rhenium and dviiodine astatine though they were later found to occupy the position of dvimanganese and ekaiodine respectively',\n",
       " 'this imprecise use of prefix wa caused by a break in the table s structurethe apparent dead zone between cerium and tantalumitself a consequence of mendeleev s strict adherence to the eightcolumn structureby mendeleev s table rearranged several element and included the noble gas along with most other newly discovered element',\n",
       " 'it still had the dead zone and a row zero wa added above hydrogen and helium to include coronium and the ether which were widely believed to be element at the time',\n",
       " 'although the michelsonmorley experiment in cast doubt on the possibility of a luminiferous ether a a spacefilling medium physicist set constraint for it property',\n",
       " 'mendeleev believed it to be a very light gas with an atomic weight several order of magnitude smaller than that of hydrogen',\n",
       " 'he also postulated that it would rarely interact with other element similar to the noble gas of his group zero and instead permeate substance at a velocity of kilometre mi per secondin swiss chemist alfred werner resolved the dead zone of mendeleev s table',\n",
       " 'he determined that the rare earth element lanthanide of which were known lay within that gap',\n",
       " 'although mendeleev knew of lanthanum cerium and erbium they were previously unaccounted for in the table because the number of lanthanide and their exact order were not known',\n",
       " 'this wa in part a consequence of their similar chemistry and imprecise determination of their atomic mass',\n",
       " 'combined with the lack of a known group of similar element this rendered the placement of the lanthanide in the periodic table difficult',\n",
       " 'this discovery led to a restructuring of the table and the first appearance of the column form',\n",
       " 'atomic theory and isotope four radioactive element were known in radium actinium thorium and uranium',\n",
       " 'these radioactive element termed radioelements were accordingly placed at the bottom of the periodic table a they were known to have greater atomic weight than stable element although their exact order wa not known',\n",
       " 'researcher believed there were still more radioactive element yet to be discovered and during the next decade the decay chain of thorium and uranium were extensively studied',\n",
       " 'many new radioactive substance were found including the noble gas radon and their chemical property were investigated',\n",
       " 'by almost different radioactive substance had been found in the decay chain of thorium and uranium',\n",
       " 'american chemist bertram boltwood proposed several decay chain linking these radioelements between uranium and lead',\n",
       " 'these were thought at the time to be new chemical element substantially increasing the number of known element and leading to speculation that their discovery would undermine the concept of the periodic table',\n",
       " 'for example there wa not enough room between lead and uranium to accommodate these discovery even assuming that some discovery were duplicate or misidentifications',\n",
       " 'it wa also believed that radioactive decay violated one of the central principle of the periodic table namely that chemical element could not undergo transmutation and always had unique identitiesfrederick soddy and kazimierz fajans found in that although these substance emitted different radiation many of these substance were identical in their chemical characteristic so shared the same place on the periodic table',\n",
       " 'they became known a isotope from the greek isos topos same place',\n",
       " 'austrian chemist friedrich paneth cited a difference between real element element and simple substance isotope also determining that the existence of different isotope wa mostly irrelevant in determining chemical propertiesfollowing charles glover barkla s discovery of characteristic xrays emitted from metal in english physicist henry moseley considered a possible correlation between xray emission and physical property of element',\n",
       " 'moseley along with charles galton darwin niels bohr and george de hevesy proposed that the atomic mass a or nuclear charge z may be mathematically related to physical property',\n",
       " 'the significance of these atomic property wa determined in the geigermarsden experiment in which the atomic nucleus and it charge were discoveredin amateur dutch physicist antonius van den broek wa the first to propose that the atomic number nuclear charge determined the placement of element in the periodic table',\n",
       " 'he correctly determined the atomic number of all element up to atomic number tin though he made several error with heavier element',\n",
       " 'however broek did not have any method to experimentally verify the atomic number of element thus they were still believed to be a consequence of atomic weight which remained in use in ordering elementsmoseley wa determined to test broek s hypothesis',\n",
       " 'after a year of investigation of the fraunhofer line of various element he found a relationship between the xray wavelength of an element and it atomic number',\n",
       " 'with this moseley obtained the first accurate measurement of atomic number and determined an absolute sequence to the element allowing him to restructure the periodic table',\n",
       " 'moseley s research immediately resolved discrepancy between atomic weight and chemical property where sequencing strictly by atomic weight would result in group with inconsistent chemical peroperties',\n",
       " 'for example his measurement of xray wavelength enabled him to correctly place argon z before potassium z cobalt z before nickel z a well a tellurium z before iodine z in line with periodic trend',\n",
       " 'the determination of atomic number also clarified the order of chemically similar rare earth element it wa also used to confirm that george urbain s claimed discovery of a new rare earth element celtium wa invalid earning moseley acclamation for this techniqueswedish physicist karl siegbahn continued moseley s work for element heavier than gold z and found that the heaviest known element at the time uranium had atomic number in determining the largest identified atomic number gap in the atomic number sequence were conclusively determined where an atomic number had no known corresponding element the gap occurred at atomic number and in the s and s pioneering research into quantum mechanic led to new development in atomic theory and small change to the periodic table',\n",
       " 'the bohr model wa developed during this time and championed the idea of electron configuration that determine chemical property',\n",
       " 'bohr proposed that element in the same group behaved similarly because they have similar electron configuration and that noble gas had filled valence shell this form the basis of the modern octet rule',\n",
       " 'this research then led austrian physicist wolfgang pauli to investigate the length of period in the periodic table in mendeleev asserted that there wa a fixed periodicity of eight and expected a mathematical correlation between atomic number and chemical property pauli demonstrated that this wa not the case',\n",
       " 'instead the pauli exclusion principle wa developed',\n",
       " 'this state that no electron can coexist in the same quantum state and showed in conjunction with empirical observation the existence of four quantum number and the consequence on the order of shell filling',\n",
       " 'this determines the order in which electron shell are filled and explains the periodicity of the periodic table',\n",
       " 'british chemist charles bury is credited with the first use of the term transition metal in to refer to element between the maingroup element of group ii and iii',\n",
       " 'he explained the chemical property of transition element a a consequence of the filling of an inner subshell rather than the valence shell',\n",
       " 'this proposition based upon the work of american chemist gilbert n lewis suggested the appearance of the d subshell in period and the f subshell in period lengthening the period from to and then to element',\n",
       " 'looking for expansion and the end of the periodic table a early a bohr s research on electronic structure led physicist such a johannes rydberg to extrapolate the property of undiscovered element heavier than uranium',\n",
       " 'many agreed that the next noble gas after radon would most likely have the atomic number from which it followed that the transition series in the seventh period should resemble those in the sixth',\n",
       " 'although it wa thought that these transition series would include a series analogous to the rare earth element characterized by filling of the f shell it wa unknown where this series began',\n",
       " 'prediction ranged from atomic number thorium to many proposing a beginning beyond the known element at or beyond atomic number the element from actinium to uranium were instead believed to form a fourth series of transition metal because of their high oxidation state accordingly they were placed in group through in neptunium and plutonium were the first transuranic element to be discovered they were placed in sequence beneath rhenium and osmium respectively',\n",
       " 'however preliminary investigation of their chemistry suggested a greater similarity to uranium than to lighter transition metal challenging their placement in the periodic table',\n",
       " 'during his manhattan project research in glenn t seaborg experienced unexpected difficulty in isolating the element americium and curium a they were believed to be part of a fourth series of transition metal',\n",
       " 'seaborg wondered if these element belonged to a different series which would explain why their chemical property in particular the instability of higher oxidation state were different from prediction',\n",
       " 'in against the advice of colleague he proposed a significant change to mendeleev s table the actinide seriesseaborg s actinide concept of heavy element electronic structure predicting that the actinide form a transition series analogous to the rare earth series of lanthanide element is now well accepted and included in the periodic table',\n",
       " 'the actinide series is the second row of the fblock f series and comprises the element from actinium to lawrencium',\n",
       " 'in both the actinide and lanthanide series an inner electron shell is being filled',\n",
       " 'seaborg s subsequent elaboration of the actinide concept theorized a series of superheavy element in a transactinide series comprising element from to and a superactinide series of element from to he proposed an extended periodic table with an additional period of element thus reaching element this eighth period wa derived from an extrapolation of the aufbau principle and placed element to in a gblock in which a new g subshell would be filled',\n",
       " 'seaborg s model however did not take into account relativistic effect resulting from high atomic number and electron orbital speed',\n",
       " 'burkhard fricke in and pekka pyykk in used computer modeling to calculate the position of element up to z and found that the position of several element were different from those predicted by seaborg',\n",
       " 'although model from pyykk fricke and nefedov et al',\n",
       " 'generally place element a the next noble gas there is no clear consensus on the electron configuration of element beyond and thus their placement in an extended periodic table',\n",
       " 'it is now thought that because of relativistic effect such an extension will feature element that break the periodicity in known element thus posing another hurdle to future periodic table constructsthe discovery of tennessine in filled the last remaining gap in the seventh period',\n",
       " 'any newly discovered element will thus be placed in an eighth period',\n",
       " 'despite the completion of the seventh period experimental chemistry of some transactinide ha been shown to be inconsistent with the periodic law',\n",
       " 'in the s ken czerwinski at university of california berkeley observed similarity between rutherfordium and plutonium and dubnium and protactinium rather than a clear continuation of periodicity in group and more recent experiment on copernicium and flerovium have yielded inconsistent result some of which suggest that these element behave more like the noble gas radon rather than mercury and lead their respective congener',\n",
       " 'a such the chemistry of many superheavy element ha yet to be wellcharacterized and it remains unclear whether the periodic law can still be used to extrapolate the property of undiscovered element',\n",
       " 'see also reference external link development of the periodic table part of a collection of page that explores the periodic table and the element by the royal society of chemistry dr eric scerri s web page which contains interview lecture and article on various aspect of the periodic system including the history of the periodic table',\n",
       " 'the internet database of periodic table a large collection of periodic table and periodic system formulation',\n",
       " 'history of mendeleev periodic table of element a a data visualization at stack exchange']"
      ]
     },
     "execution_count": 12,
     "metadata": {},
     "output_type": "execute_result"
    }
   ],
   "source": [
    "processed_sents"
   ]
  },
  {
   "cell_type": "code",
   "execution_count": 13,
   "metadata": {},
   "outputs": [
    {
     "name": "stdout",
     "output_type": "stream",
     "text": [
      "Found 978(/1046) words with w2v vectors\n",
      "Vocab size : 978\n",
      "[[0.08703331 0.08786308 0.05431972 ... 0.03837078 0.03438099 0.00756401]\n",
      " [0.03369612 0.11327431 0.13488707 ... 0.15930222 0.         0.        ]\n",
      " [0.10306813 0.1157925  0.06483371 ... 0.07241702 0.         0.        ]\n",
      " ...\n",
      " [0.09141635 0.12155321 0.11983121 ... 0.14431895 0.02453266 0.1669683 ]\n",
      " [0.1004963  0.0947988  0.0748287  ... 0.07203805 0.06210614 0.        ]\n",
      " [0.04413427 0.07937205 0.11888101 ... 0.03655036 0.05185106 0.01387161]]\n"
     ]
    }
   ],
   "source": [
    "# My sentences\n",
    "sentences = [question] + processed_sents\n",
    "infersent.build_vocab(sentences, tokenize=True)\n",
    "embeddings = infersent.encode(sentences, tokenize=True)\n",
    "print(embeddings)"
   ]
  },
  {
   "cell_type": "code",
   "execution_count": 14,
   "metadata": {},
   "outputs": [],
   "source": [
    "\n",
    "\n",
    "embeddings = np.array(embeddings)\n",
    "embeddings = StandardScaler().fit_transform(embeddings)\n",
    "embeddings = MinMaxScaler().fit_transform(embeddings)\n",
    "distances = pdist(embeddings, metric='euclidean')\n",
    "sentence_similarity_matrix = squareform(distances)"
   ]
  },
  {
   "cell_type": "code",
   "execution_count": 15,
   "metadata": {},
   "outputs": [
    {
     "data": {
      "text/plain": [
       "115"
      ]
     },
     "execution_count": 15,
     "metadata": {},
     "output_type": "execute_result"
    }
   ],
   "source": [
    "best_match = np.argmin(sentence_similarity_matrix[0][1:])\n",
    "best_match"
   ]
  },
  {
   "cell_type": "code",
   "execution_count": 16,
   "metadata": {},
   "outputs": [
    {
     "data": {
      "text/plain": [
       "'this determines the order in which electron shell are filled and explains the periodicity of the periodic table'"
      ]
     },
     "execution_count": 16,
     "metadata": {},
     "output_type": "execute_result"
    }
   ],
   "source": [
    "processed_sents[best_match]"
   ]
  },
  {
   "cell_type": "code",
   "execution_count": 17,
   "metadata": {},
   "outputs": [
    {
     "data": {
      "text/plain": [
       "array([115,   2,  89,   8,  88,  62,   1,  28,  33,  70, 140, 113,  57,\n",
       "       141,  20, 132,  43,  68,   0,  13,  27,  47, 133,  78,  87,  55,\n",
       "        60,  38,  50, 103,  72,  67,  58,  61, 136,  85,  59,  14,  49,\n",
       "        39, 117,  77,  31,  91, 121,  75,  41, 114, 106,  82, 123,  36,\n",
       "        16,  69,  74, 135, 110,  19,  99,  63,  24,  37,  46,  81,  22,\n",
       "        17, 128,  94,  96, 134,  83,  93,  12,  45, 107, 120, 105,   7,\n",
       "         6, 116,  34, 108, 138,  76,  44,  95,  79, 131, 125,  10,  29,\n",
       "       127,  30,  52,  71,  42,  48, 111,  56, 130,  86,  35, 118,   9,\n",
       "        65,  97,  25,  51,  53,  80,  21, 139,   4, 119,  32,  11, 104,\n",
       "        92,  23,  40, 126,  64,  90,  66,  98,  15, 124,   5, 102, 101,\n",
       "       112,  73, 129,  18,  54,  84, 122, 137,  26,   3, 100, 109])"
      ]
     },
     "execution_count": 17,
     "metadata": {},
     "output_type": "execute_result"
    }
   ],
   "source": [
    "best_match = np.argsort(sentence_similarity_matrix[0][1:])\n",
    "best_match"
   ]
  },
  {
   "cell_type": "code",
   "execution_count": 22,
   "metadata": {},
   "outputs": [
    {
     "data": {
      "text/plain": [
       "array([115,   2,  89,   8,  88])"
      ]
     },
     "execution_count": 22,
     "metadata": {},
     "output_type": "execute_result"
    }
   ],
   "source": [
    "np.argsort(sentence_similarity_matrix[0][1:])[0:5]"
   ]
  },
  {
   "cell_type": "code",
   "execution_count": null,
   "metadata": {},
   "outputs": [],
   "source": []
  },
  {
   "cell_type": "code",
   "execution_count": null,
   "metadata": {},
   "outputs": [],
   "source": []
  },
  {
   "cell_type": "code",
   "execution_count": null,
   "metadata": {},
   "outputs": [],
   "source": []
  },
  {
   "cell_type": "code",
   "execution_count": null,
   "metadata": {},
   "outputs": [],
   "source": []
  },
  {
   "cell_type": "code",
   "execution_count": null,
   "metadata": {},
   "outputs": [],
   "source": []
  },
  {
   "cell_type": "code",
   "execution_count": null,
   "metadata": {},
   "outputs": [],
   "source": []
  },
  {
   "cell_type": "code",
   "execution_count": null,
   "metadata": {},
   "outputs": [],
   "source": []
  },
  {
   "cell_type": "code",
   "execution_count": null,
   "metadata": {},
   "outputs": [],
   "source": []
  },
  {
   "cell_type": "code",
   "execution_count": null,
   "metadata": {},
   "outputs": [],
   "source": []
  },
  {
   "cell_type": "code",
   "execution_count": null,
   "metadata": {},
   "outputs": [],
   "source": []
  }
 ],
 "metadata": {
  "kernelspec": {
   "display_name": "commons",
   "language": "python",
   "name": "commons"
  },
  "language_info": {
   "codemirror_mode": {
    "name": "ipython",
    "version": 3
   },
   "file_extension": ".py",
   "mimetype": "text/x-python",
   "name": "python",
   "nbconvert_exporter": "python",
   "pygments_lexer": "ipython3",
   "version": "3.6.5"
  },
  "toc": {
   "base_numbering": 1,
   "nav_menu": {},
   "number_sections": true,
   "sideBar": true,
   "skip_h1_title": false,
   "title_cell": "Table of Contents",
   "title_sidebar": "Contents",
   "toc_cell": false,
   "toc_position": {},
   "toc_section_display": true,
   "toc_window_display": false
  }
 },
 "nbformat": 4,
 "nbformat_minor": 2
}
